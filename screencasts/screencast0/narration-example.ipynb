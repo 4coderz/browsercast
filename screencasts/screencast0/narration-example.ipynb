{
 "metadata": {
  "lecture": {
   "audioURL": "http://wolever.github.io/nblecture/screencasts/screencast0/audio.mp3"
  },
  "name": "narration-example"
 },
 "nbformat": 3,
 "nbformat_minor": 0,
 "worksheets": [
  {
   "cells": [
    {
     "cell_type": "markdown",
     "metadata": {
      "nblecture": {
       "time": 0
      }
     },
     "source": [
      "Let's talk about *slicing* in Python. We'll use this string for examples:"
     ]
    },
    {
     "cell_type": "code",
     "collapsed": false,
     "input": [
      "vowels = 'AEIOU'"
     ],
     "language": "python",
     "metadata": {
      "nblecture": {
       "time": 5
      }
     },
     "outputs": [],
     "prompt_number": 1
    },
    {
     "cell_type": "markdown",
     "metadata": {
      "nblecture": {
       "time": 6
      }
     },
     "source": [
      "If we want to get a single character, we use a single integer as a subscript:"
     ]
    },
    {
     "cell_type": "code",
     "collapsed": false,
     "input": [
      "print vowels[0]"
     ],
     "language": "python",
     "metadata": {
      "nblecture": {
       "time": 10.5
      }
     },
     "outputs": [
      {
       "output_type": "stream",
       "stream": "stdout",
       "text": [
        "A\n"
       ]
      }
     ],
     "prompt_number": 2
    },
    {
     "cell_type": "code",
     "collapsed": false,
     "input": [
      "print vowels[3]"
     ],
     "language": "python",
     "metadata": {
      "nblecture": {
       "time": 10.5
      }
     },
     "outputs": [
      {
       "output_type": "stream",
       "stream": "stdout",
       "text": [
        "O\n"
       ]
      }
     ],
     "prompt_number": 3
    },
    {
     "cell_type": "markdown",
     "metadata": {
      "nblecture": {
       "time": 11.06
      }
     },
     "source": [
      "But if we want to get a whole section of the string at once, called a *slice*, we use a lower and an upper bound:"
     ]
    },
    {
     "cell_type": "code",
     "collapsed": false,
     "input": [
      "print vowels[1:3]"
     ],
     "language": "python",
     "metadata": {
      "nblecture": {
       "time": 17.11
      }
     },
     "outputs": [
      {
       "output_type": "stream",
       "stream": "stdout",
       "text": [
        "EI\n"
       ]
      }
     ],
     "prompt_number": 4
    },
    {
     "cell_type": "markdown",
     "metadata": {
      "nblecture": {
       "time": 19.049999999999997
      }
     },
     "source": [
      "As you can see, the slice *includes* the character at the lower bound, but *excludes* the character at the upper bound. If we combine this with the fact that negative indices count backward from the end, it's easy to get the interior of the string:"
     ]
    },
    {
     "cell_type": "code",
     "collapsed": false,
     "input": [
      "print vowels[1:-1]"
     ],
     "language": "python",
     "metadata": {
      "nblecture": {
       "time": 34.059999999999995
      }
     },
     "outputs": [
      {
       "output_type": "stream",
       "stream": "stdout",
       "text": [
        "EIO\n"
       ]
      }
     ],
     "prompt_number": 5
    },
    {
     "cell_type": "code",
     "collapsed": false,
     "input": [],
     "language": "python",
     "metadata": {
      "nblecture": {
       "time": 37.61
      }
     },
     "outputs": []
    }
   ],
   "metadata": {}
  }
 ]
}