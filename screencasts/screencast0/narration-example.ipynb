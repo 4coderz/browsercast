{
 "metadata": {
  "browsercast": {
   "audioURL": "http://wolever.github.io/browsercast/screencasts/screencast0/audio.ogg"
  },
  "name": "narration-example"
 },
 "nbformat": 3,
 "nbformat_minor": 0,
 "worksheets": [
  {
   "cells": [
    {
     "cell_type": "markdown",
     "metadata": {
      "browsercast": {
       "time": 0
      }
     },
     "source": [
      "Let's talk about *slicing* in Python. We'll use this string for examples:"
     ]
    },
    {
     "cell_type": "code",
     "collapsed": false,
     "input": [
      "vowels = 'AEIOU'"
     ],
     "language": "python",
     "metadata": {
      "browsercast": {
       "time": 4.49
      }
     },
     "outputs": [],
     "prompt_number": 1
    },
    {
     "cell_type": "markdown",
     "metadata": {
      "browsercast": {
       "time": 6.58
      }
     },
     "source": [
      "If we want to get a single character, we use a single integer as a subscript:"
     ]
    },
    {
     "cell_type": "code",
     "collapsed": false,
     "input": [
      "print vowels[0]"
     ],
     "language": "python",
     "metadata": {
      "browsercast": {
       "time": 8.75
      }
     },
     "outputs": [
      {
       "output_type": "stream",
       "stream": "stdout",
       "text": [
        "A\n"
       ]
      }
     ],
     "prompt_number": 2
    },
    {
     "cell_type": "code",
     "collapsed": false,
     "input": [
      "print vowels[3]"
     ],
     "language": "python",
     "metadata": {
      "browsercast": {
       "time": 10.05
      }
     },
     "outputs": [
      {
       "output_type": "stream",
       "stream": "stdout",
       "text": [
        "O\n"
       ]
      }
     ],
     "prompt_number": 3
    },
    {
     "cell_type": "markdown",
     "metadata": {
      "browsercast": {
       "time": 10.05
      }
     },
     "source": [
      "But if we want to get a whole section of the string at once, called a *slice*, we use a lower and an upper bound:"
     ]
    },
    {
     "cell_type": "code",
     "collapsed": false,
     "input": [
      "print vowels[1:3]"
     ],
     "language": "python",
     "metadata": {
      "browsercast": {
       "time": 15.14
      }
     },
     "outputs": [
      {
       "output_type": "stream",
       "stream": "stdout",
       "text": [
        "EI\n"
       ]
      }
     ],
     "prompt_number": 4
    },
    {
     "cell_type": "markdown",
     "metadata": {
      "browsercast": {
       "time": 17.830000000000002
      }
     },
     "source": [
      "As you can see, the slice *includes* the character at the lower bound, but *excludes* the character at the upper bound. If we combine this with the fact that negative indices count backward from the end, it's easy to get the interior of the string:"
     ]
    },
    {
     "cell_type": "code",
     "collapsed": false,
     "input": [
      "print vowels[1:-1]"
     ],
     "language": "python",
     "metadata": {
      "browsercast": {
       "time": 33.74
      }
     },
     "outputs": [
      {
       "output_type": "stream",
       "stream": "stdout",
       "text": [
        "EIO\n"
       ]
      }
     ],
     "prompt_number": 5
    },
    {
     "cell_type": "code",
     "collapsed": false,
     "input": [],
     "language": "python",
     "metadata": {
      "browsercast": {
       "time": 36.510000000000005
      }
     },
     "outputs": []
    }
   ],
   "metadata": {}
  }
 ]
}