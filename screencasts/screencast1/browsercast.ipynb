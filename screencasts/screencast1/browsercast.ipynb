{
 "metadata": {
  "browsercast": {
   "audioURL": "files/audio.ogg"
  },
  "name": "browsercast"
 },
 "nbformat": 3,
 "nbformat_minor": 0,
 "worksheets": [
  {
   "cells": [
    {
     "cell_type": "markdown",
     "metadata": {
      "browsercast": {
       "time": 0
      }
     },
     "source": [
      "*The Japanese wrote haikus*\n",
      "\n",
      "<img src=\"files/haiku.png\" alt=\"Haiku\" />"
     ]
    },
    {
     "cell_type": "markdown",
     "metadata": {
      "browsercast": {
       "time": 1.49
      }
     },
     "source": [
      "*Shakespeare wrote sonnets*\n",
      "\n",
      "<img src=\"files/shakespeare.png\" />"
     ]
    },
    {
     "cell_type": "markdown",
     "metadata": {
      "browsercast": {
       "time": 4.28
      }
     },
     "source": [
      "And we write\u2026 *PowerPoint*\n",
      "\n",
      "<img src=\"files/lorem-ipsum.png\" />"
     ]
    },
    {
     "cell_type": "markdown",
     "metadata": {
      "browsercast": {
       "time": 7.58
      }
     },
     "source": [
      "Some people think PowerPoint is responsible for people making bad presentations...\n",
      "\n",
      "<img src=\"files/tufte.png\" />\n",
      "\n",
      "...but that's like blaming fountain pens for bad poetry."
     ]
    },
    {
     "cell_type": "markdown",
     "metadata": {
      "browsercast": {
       "time": 16.02
      }
     },
     "source": [
      "The *real* problem with PowerPoint and its open source equivalents\n",
      "\n",
      "<img src=\"files/powerpoint.png\" /> <img src=\"files/libreoffice.png\" />\n",
      "\n",
      "...is that they aren't web-friendly."
     ]
    },
    {
     "cell_type": "markdown",
     "metadata": {
      "browsercast": {
       "time": 21.91
      }
     },
     "source": [
      "If you export a slideshow as a web page, what you actually get is a bunch of images, devoid of words, devoid of meaning. Just a collection of pixels which happen to be arranged in patterns that our eyes and brains can translate into letters.\n",
      "\n",
      "<img src=\"files/magnified.png\" />\n",
      "\n",
      "Search engines can't read this text.\n",
      "Neither can accessibility aids for the visually impaired.\n",
      "And those things that look like hyperlinks? They're not&mdash;they're just more pixels.\n",
      "\n",
      "What's worse, desktop slideshow tools make collaboration hard because they don't play nicely with version control.\n",
      "Changes to PowerPoint and LibreOffice presentations must be diffed and merged by hand, which is tedious and error-prone.\n",
      "As a result, people often use one another's presentations as starting points for their own, but rarely offer their improvements back to the original author."
     ]
    },
    {
     "cell_type": "markdown",
     "metadata": {
      "browsercast": {
       "time": 67.69
      }
     },
     "source": [
      "The goal of BrowserCast is to create a *first-class*, *web-native* slideshow tool.\n",
      "\n",
      "Unlike existing HTML slideshow tools like S5, BrowserCast builds on something that is useful in its own right: the IPython Notebook.\n",
      "\n",
      "Using the [Popcorn.js](http://popcornjs.org/) media framework, BrowserCast lets you add a voiceover to any IPython Notebook, revealing cells in sync with narration. All of the text is in the browser *as first-class content*, so it can be copy and pasted, searched, and so on.\n",
      "\n",
      "What's more, you can manage the content of your browsercasts using standard version control tools like `git`*.\n",
      "\n",
      "*: Although you still need an external audio editor, like [Audacity](http://audacity.sourceforge.net/), to manage and merge changes to the soundtrack."
     ]
    },
    {
     "cell_type": "markdown",
     "metadata": {
      "browsercast": {
       "time": 111.35
      }
     },
     "source": [
      "* BrowserCast's GitHub page: http://github.com/wolever/browsercast\n",
      "* Bookmarklet: http://wolever.github.io/browsercast/"
     ]
    },
    {
     "cell_type": "markdown",
     "metadata": {
      "browsercast": {
       "time": 125.16
      }
     },
     "source": [
      "*Thanks!*\n",
      "\n",
      "I'd love to hear from you: [david@wolever.net](mailto:david@wolever.net), [@wolever](https://twitter.com/wolever)"
     ]
    }
   ],
   "metadata": {}
  }
 ]
}