{
 "metadata": {
  "browsercast": {
   "audioURL": "http://wolever.github.io/browsercast/examples/example.ogg"
  },
  "name": "browsercast"
 },
 "nbformat": 3,
 "nbformat_minor": 0,
 "worksheets": [
  {
   "cells": [
    {
     "cell_type": "markdown",
     "metadata": {
      "browsercast": {
       "time": 0
      }
     },
     "source": [
      "The Japanese have haikus\n",
      "\n",
      "<img src=\"files/haiku.png\" alt=\"Haiku\" />"
     ]
    },
    {
     "cell_type": "markdown",
     "metadata": {
      "browsercast": {
       "time": 4.74
      }
     },
     "source": [
      "Shakespeare wrote sonnets\n",
      "\n",
      "<img src=\"files/shakespeare.png\" />"
     ]
    },
    {
     "cell_type": "markdown",
     "metadata": {
      "browsercast": {
       "time": 7.28
      }
     },
     "source": [
      "And we... have PowerPoint\n",
      "\n",
      "<img src=\"files/lorem-ipsum.png\" />"
     ]
    },
    {
     "cell_type": "markdown",
     "metadata": {
      "browsercast": {
       "time": 10.870000000000001
      }
     },
     "source": [
      "Some people think PowerPoint is responsible for people making bad presentations...\n",
      "\n",
      "<img src=\"files/tufte.png\" />\n",
      "\n",
      "...but that's like blaming fountain pens for bad poetry."
     ]
    },
    {
     "cell_type": "markdown",
     "metadata": {
      "browsercast": {
       "time": 10.870000000000001
      }
     },
     "source": [
      "The *real* problem with PowerPoint and its open source equivalents\n",
      "\n",
      "<img src=\"files/powerpoint.png\" /> <img src=\"files/libreoffice.png\" />\n",
      "\n",
      "...is that they aren't web-friendly."
     ]
    },
    {
     "cell_type": "markdown",
     "metadata": {
      "browsercast": {
       "time": 13.41
      }
     },
     "source": [
      "If you export a slideshow as a web page, what you actually get is a bunch of images.\n",
      "There aren't actually any words in these images.\n",
      "There are just pixels that happen to be arranged in patterns our eyes and brains can translate into letters.\n",
      "\n",
      "<img src=\"files/magnified.png\" />\n",
      "\n",
      "Search engines can't read this text.\n",
      "Neither can accessibility aids for the visually impaired.\n",
      "And those things that look like hyperlinks? They're not&mdash;they're just more pixels.\n",
      "\n",
      "What's worse, desktop slideshow tools make collaboration hard because they don't play nicely with version control.\n",
      "Changes to PowerPoint and LibreOffice presentations must be diffed and merged by hand, which is tedious and error-prone.\n",
      "As a result, people often use one another's presentations as starting points for their own, but rarely offer their improvements back to the original author."
     ]
    },
    {
     "cell_type": "markdown",
     "metadata": {
      "browsercast": {
       "time": 14.38
      }
     },
     "source": [
      "The goal of the BrowserCast project is to create a first-class web-native slideshow tool.\n",
      "Unlike existing HTML slideshow tools like S5, BrowserCast builds on something that is useful in its own right: the IPython Notebook.\n",
      "Using the Popcorn.js media framework, BrowserCast lets you add a voiceover to any IPython Notebook to reveal cells in sync with narration.\n",
      "All of the text is in the browser *as first-class content*, so you can copy and paste it, search for it, and so on.\n",
      "What's more, you can manage the content of your browsercasts using standard version control tools like Git\n",
      "(although you still need an external audio editor to manage and merge changes to the soundtrack)."
     ]
    },
    {
     "cell_type": "markdown",
     "metadata": {
      "browsercast": {
       "time": 16.130000000000003
      }
     },
     "source": [
      "# A Quick Example"
     ]
    },
    {
     "cell_type": "markdown",
     "metadata": {
      "browsercast": {
       "time": 17.240000000000002
      }
     },
     "source": [
      "Let's talk about *slicing* in Python. We'll use this string for examples:"
     ]
    },
    {
     "cell_type": "code",
     "collapsed": false,
     "input": [
      "vowels = 'AEIOU'"
     ],
     "language": "python",
     "metadata": {
      "browsercast": {
       "time": 17.240000000000002
      }
     },
     "outputs": [],
     "prompt_number": 1
    },
    {
     "cell_type": "markdown",
     "metadata": {
      "browsercast": {
       "time": 17.240000000000002
      }
     },
     "source": [
      "If we want to get a single character, we use a single integer as a subscript:"
     ]
    },
    {
     "cell_type": "code",
     "collapsed": false,
     "input": [
      "print vowels[0]"
     ],
     "language": "python",
     "metadata": {
      "browsercast": {
       "time": 17.240000000000002
      }
     },
     "outputs": [
      {
       "output_type": "stream",
       "stream": "stdout",
       "text": [
        "A\n"
       ]
      }
     ],
     "prompt_number": 2
    },
    {
     "cell_type": "code",
     "collapsed": false,
     "input": [
      "print vowels[3]"
     ],
     "language": "python",
     "metadata": {
      "browsercast": {
       "time": 17.240000000000002
      }
     },
     "outputs": [
      {
       "output_type": "stream",
       "stream": "stdout",
       "text": [
        "O\n"
       ]
      }
     ],
     "prompt_number": 3
    },
    {
     "cell_type": "markdown",
     "metadata": {
      "browsercast": {
       "time": 17.240000000000002
      }
     },
     "source": [
      "But if we want to get a whole section of the string at once, called a *slice*, we use a lower and an upper bound:"
     ]
    },
    {
     "cell_type": "code",
     "collapsed": false,
     "input": [
      "print vowels[1:3]"
     ],
     "language": "python",
     "metadata": {
      "browsercast": {
       "time": 17.240000000000002
      }
     },
     "outputs": [
      {
       "output_type": "stream",
       "stream": "stdout",
       "text": [
        "EI\n"
       ]
      }
     ],
     "prompt_number": 4
    },
    {
     "cell_type": "markdown",
     "metadata": {
      "browsercast": {
       "time": 17.240000000000002
      }
     },
     "source": [
      "As you can see, the slice *includes* the character at the lower bound, but *excludes* the character at the upper bound. If we combine this with the fact that negative indices count backward from the end, it's easy to get the interior of the string:"
     ]
    },
    {
     "cell_type": "code",
     "collapsed": false,
     "input": [
      "print vowels[1:-1]"
     ],
     "language": "python",
     "metadata": {
      "browsercast": {
       "time": 17.240000000000002
      }
     },
     "outputs": [
      {
       "output_type": "stream",
       "stream": "stdout",
       "text": [
        "EIO\n"
       ]
      }
     ],
     "prompt_number": 5
    },
    {
     "cell_type": "code",
     "collapsed": false,
     "input": [],
     "language": "python",
     "metadata": {
      "browsercast": {
       "time": 17.240000000000002
      }
     },
     "outputs": []
    }
   ],
   "metadata": {}
  }
 ]
}