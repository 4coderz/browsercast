{
 "metadata": {
  "blah": "stuff",
  "browsercast": {
   "audioURL": "http://localhost:4240/examples/example.mp3"
  },
  "name": "NBRec Test 1"
 },
 "nbformat": 3,
 "nbformat_minor": 0,
 "worksheets": [
  {
   "cells": [
    {
     "cell_type": "code",
     "collapsed": false,
     "input": [
      "foo = 4"
     ],
     "language": "python",
     "metadata": {
      "browsercast": {
       "time": 0
      },
      "foo": 42
     },
     "outputs": [],
     "prompt_number": 10
    },
    {
     "cell_type": "code",
     "collapsed": false,
     "input": [
      "bar = 16"
     ],
     "language": "python",
     "metadata": {
      "browsercast": {
       "time": 5.5
      }
     },
     "outputs": [],
     "prompt_number": 11
    },
    {
     "cell_type": "code",
     "collapsed": false,
     "input": [
      "print \"Sum:\", foo + bar\n",
      "print \"Product:\", foo * bar"
     ],
     "language": "python",
     "metadata": {
      "browsercast": {
       "time": 16.5
      }
     },
     "outputs": []
    },
    {
     "cell_type": "code",
     "collapsed": false,
     "input": [
      "print \"f\""
     ],
     "language": "python",
     "metadata": {
      "browsercast": {
       "time": 17.5
      }
     },
     "outputs": [
      {
       "output_type": "stream",
       "stream": "stdout",
       "text": [
        "f\n"
       ]
      }
     ],
     "prompt_number": 13
    }
   ],
   "metadata": {}
  }
 ]
}