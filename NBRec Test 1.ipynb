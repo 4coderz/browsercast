{
 "metadata": {
  "blah": "stuff",
  "browsercast": {
   "audioURL": "files/examples/example.mp3"
  },
  "name": "NBRec Test 1"
 },
 "nbformat": 3,
 "nbformat_minor": 0,
 "worksheets": [
  {
   "cells": [
    {
     "cell_type": "code",
     "collapsed": false,
     "input": [
      "foo = 4"
     ],
     "language": "python",
     "metadata": {
      "browsercast": {
       "time": 2.06
      }
     },
     "outputs": []
    },
    {
     "cell_type": "code",
     "collapsed": false,
     "input": [
      "bar = 16"
     ],
     "language": "python",
     "metadata": {
      "browsercast": {
       "time": 2.06
      }
     },
     "outputs": [],
     "prompt_number": 11
    },
    {
     "cell_type": "code",
     "collapsed": false,
     "input": [
      "print \"Sum:\", foo + bar\n",
      "print \"Product:\", foo * bar"
     ],
     "language": "python",
     "metadata": {
      "browsercast": {
       "time": 2.06
      }
     },
     "outputs": []
    },
    {
     "cell_type": "code",
     "collapsed": false,
     "input": [
      "print \"f\""
     ],
     "language": "python",
     "metadata": {
      "browsercast": {
       "time": 3.04
      }
     },
     "outputs": [
      {
       "output_type": "stream",
       "stream": "stdout",
       "text": [
        "f\n"
       ]
      }
     ],
     "prompt_number": 13
    }
   ],
   "metadata": {}
  }
 ]
}