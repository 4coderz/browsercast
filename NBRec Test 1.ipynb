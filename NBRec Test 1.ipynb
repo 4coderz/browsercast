{
 "metadata": {
  "blah": "stuff",
  "browsercast": {
   "audioURL": "http://localhost/example.mp3"
  },
  "name": "NBRec Test 1"
 },
 "nbformat": 3,
 "nbformat_minor": 0,
 "worksheets": [
  {
   "cells": [
    {
     "cell_type": "code",
     "collapsed": false,
     "input": [
      "foo = 4"
     ],
     "language": "python",
     "metadata": {
      "browsercast": {
       "time": 0
      }
     },
     "outputs": []
    },
    {
     "cell_type": "code",
     "collapsed": false,
     "input": [
      "bar = 16"
     ],
     "language": "python",
     "metadata": {
      "browsercast": {
       "time": 3.19
      }
     },
     "outputs": [],
     "prompt_number": 11
    },
    {
     "cell_type": "code",
     "collapsed": false,
     "input": [
      "print \"Sum:\", foo + bar\n",
      "print \"Product:\", foo * bar"
     ],
     "language": "python",
     "metadata": {
      "browsercast": {
       "time": 5.1899999999999995
      }
     },
     "outputs": []
    },
    {
     "cell_type": "code",
     "collapsed": false,
     "input": [
      "print \"f\""
     ],
     "language": "python",
     "metadata": {
      "browsercast": {
       "time": 10.67
      }
     },
     "outputs": [
      {
       "output_type": "stream",
       "stream": "stdout",
       "text": [
        "f\n"
       ]
      }
     ],
     "prompt_number": 13
    }
   ],
   "metadata": {}
  }
 ]
}