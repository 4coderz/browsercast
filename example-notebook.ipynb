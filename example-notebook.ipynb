{
 "metadata": {
  "blah": "stuff",
  "browsercast": {
   "audioURL": "http://wolever.github.io/browsercast/examples/example.ogg"
  },
  "name": "example-notebook"
 },
 "nbformat": 3,
 "nbformat_minor": 0,
 "worksheets": [
  {
   "cells": [
    {
     "cell_type": "code",
     "collapsed": false,
     "input": [
      "foo = 7"
     ],
     "language": "python",
     "metadata": {
      "browsercast": {
       "time": 0
      }
     },
     "outputs": [],
     "prompt_number": 5
    },
    {
     "cell_type": "code",
     "collapsed": false,
     "input": [
      "bar = 42"
     ],
     "language": "python",
     "metadata": {
      "browsercast": {
       "time": 1.92
      }
     },
     "outputs": [],
     "prompt_number": 6
    },
    {
     "cell_type": "code",
     "collapsed": false,
     "input": [
      "print \"Sum:\", foo + bar\n",
      "print \"Product:\", foo * bar"
     ],
     "language": "python",
     "metadata": {
      "browsercast": {
       "time": 4.17
      }
     },
     "outputs": [
      {
       "output_type": "stream",
       "stream": "stdout",
       "text": [
        "Sum: 49\n",
        "Product: 294\n"
       ]
      }
     ],
     "prompt_number": 7
    },
    {
     "cell_type": "code",
     "collapsed": false,
     "input": [
      "print \"Hello, world!\""
     ],
     "language": "python",
     "metadata": {
      "browsercast": {
       "time": 6.3
      }
     },
     "outputs": [
      {
       "output_type": "stream",
       "stream": "stdout",
       "text": [
        "Hello, world!\n"
       ]
      }
     ],
     "prompt_number": 8
    },
    {
     "cell_type": "code",
     "collapsed": false,
     "input": [],
     "language": "python",
     "metadata": {
      "browsercast": {
       "time": 11.2
      }
     },
     "outputs": []
    }
   ],
   "metadata": {}
  }
 ]
}