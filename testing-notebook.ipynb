{
 "metadata": {
  "blah": "stuff",
  "browsercast": {
   "audioURL": "http://wolever.github.io/browsercast/examples/example.ogg"
  },
  "name": "testing-notebook"
 },
 "nbformat": 3,
 "nbformat_minor": 0,
 "worksheets": [
  {
   "cells": [
    {
     "cell_type": "code",
     "collapsed": false,
     "input": [
      "foo = 4"
     ],
     "language": "python",
     "metadata": {
      "browsercast": {
       "time": 0
      }
     },
     "outputs": []
    },
    {
     "cell_type": "code",
     "collapsed": false,
     "input": [
      "bar = 16"
     ],
     "language": "python",
     "metadata": {
      "browsercast": {
       "time": 3.73
      }
     },
     "outputs": [],
     "prompt_number": 11
    },
    {
     "cell_type": "code",
     "collapsed": false,
     "input": [
      "print \"Sum:\", foo + bar\n",
      "print \"Product:\", foo * bar"
     ],
     "language": "python",
     "metadata": {
      "browsercast": {
       "time": 7.42
      }
     },
     "outputs": []
    },
    {
     "cell_type": "code",
     "collapsed": false,
     "input": [
      "print \"f\""
     ],
     "language": "python",
     "metadata": {
      "browsercast": {
       "time": 11.21
      }
     },
     "outputs": [
      {
       "output_type": "stream",
       "stream": "stdout",
       "text": [
        "f\n"
       ]
      }
     ],
     "prompt_number": 13
    }
   ],
   "metadata": {}
  }
 ]
}